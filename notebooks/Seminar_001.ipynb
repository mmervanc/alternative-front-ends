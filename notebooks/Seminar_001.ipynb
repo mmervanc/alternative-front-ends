{
  "cells": [
    {
      "cell_type": "markdown",
      "id": "b6a728b2-fc2f-40d4-ada3-a876cdac0999",
      "metadata": {
        "id": "b6a728b2-fc2f-40d4-ada3-a876cdac0999"
      },
      "source": [
        "# Seminar 001: Python fundamentals"
      ]
    },
    {
      "cell_type": "markdown",
      "id": "07bf3fd3",
      "metadata": {
        "id": "07bf3fd3"
      },
      "source": [
        "<a href=\"https://colab.research.google.com/github/JR-1991/PythonProgramming2025/blob/master/notebooks/Seminar_001.ipynb\" target=\"_parent\"><img src=\"https://colab.research.google.com/assets/colab-badge.svg\" alt=\"Open In Colab\"/></a>"
      ]
    },
    {
      "cell_type": "markdown",
      "id": "a8096bf6-a7f2-4345-91c1-e8ce8154646c",
      "metadata": {
        "id": "a8096bf6-a7f2-4345-91c1-e8ce8154646c"
      },
      "source": [
        "------"
      ]
    },
    {
      "cell_type": "markdown",
      "id": "8f4c3af9-a909-411f-ba4d-78d269cdb447",
      "metadata": {
        "id": "8f4c3af9-a909-411f-ba4d-78d269cdb447"
      },
      "source": [
        "## Welcome to Jupyter!\n",
        "\n",
        "Jupyter is a coding environment that combines __documentation__ and __code__ which is very suitable for micropublications and to explain code. It is a new fundamental in scientific scripting that aids reproduciblity. Ultimately, Jupyter can help understanding what has been done better than a plain script.\n",
        "\n",
        "There are two types of cells:\n",
        "\n",
        "- __Code:__ Here the actual code will be executed\n",
        "- __Markdown:__ Explanations and any kind of text that helps understanding the code\n",
        "\n",
        "Each __code cell__ can be executed individually by using the __play-button__ or the key-combo `shift` + `enter`. New cells can be added by using the __plus-button (+)__ or the key-combo `alt` + `enter` which will execute the current cell and add a new one."
      ]
    },
    {
      "cell_type": "markdown",
      "id": "1348f1b6-6263-46c6-87ae-a15755908d16",
      "metadata": {
        "id": "1348f1b6-6263-46c6-87ae-a15755908d16"
      },
      "source": [
        "## Using Python as a calculator"
      ]
    },
    {
      "cell_type": "code",
      "execution_count": 10,
      "id": "a9f887b5-8065-416f-bc99-a7d8e02ea251",
      "metadata": {
        "id": "a9f887b5-8065-416f-bc99-a7d8e02ea251",
        "outputId": "ee1260d2-70d7-4098-8a1c-ef8043e2e65b",
        "colab": {
          "base_uri": "https://localhost:8080/"
        }
      },
      "outputs": [
        {
          "output_type": "execute_result",
          "data": {
            "text/plain": [
              "12.0"
            ]
          },
          "metadata": {},
          "execution_count": 10
        }
      ],
      "source": [
        "10 + 4 / 2"
      ]
    },
    {
      "cell_type": "markdown",
      "id": "f44bdbad-1b48-465f-9d06-57f8796f1f24",
      "metadata": {
        "id": "f44bdbad-1b48-465f-9d06-57f8796f1f24"
      },
      "source": [
        "## Variables"
      ]
    },
    {
      "cell_type": "markdown",
      "id": "1d367e90-9724-4b37-99b3-fb283ff0ddbd",
      "metadata": {
        "id": "1d367e90-9724-4b37-99b3-fb283ff0ddbd",
        "tags": []
      },
      "source": [
        "- Variables act as \"sticky notes\" attached to any kind of data or result\n",
        "- Most essential concept in programming\n",
        "- Can be accessed later on by using the variables name\n",
        "- Make sure to name your variable by its content"
      ]
    },
    {
      "cell_type": "code",
      "execution_count": 23,
      "id": "960efdca-21ca-45c7-b2d3-12b17250a511",
      "metadata": {
        "id": "960efdca-21ca-45c7-b2d3-12b17250a511"
      },
      "outputs": [],
      "source": [
        "variable = 10 * 4\n",
        "\n"
      ]
    },
    {
      "cell_type": "code",
      "execution_count": 24,
      "id": "L9IDLRMQPVBB",
      "metadata": {
        "id": "L9IDLRMQPVBB",
        "outputId": "ee4d55e1-b39f-4303-abda-31c30f8774fa",
        "colab": {
          "base_uri": "https://localhost:8080/"
        }
      },
      "outputs": [
        {
          "output_type": "execute_result",
          "data": {
            "text/plain": [
              "40"
            ]
          },
          "metadata": {},
          "execution_count": 24
        }
      ],
      "source": [
        "# Jupyter specific (needs to be at the end)\n",
        "variable"
      ]
    },
    {
      "cell_type": "code",
      "source": [],
      "metadata": {
        "id": "JoXxSGbYxcoa"
      },
      "id": "JoXxSGbYxcoa",
      "execution_count": null,
      "outputs": []
    },
    {
      "cell_type": "code",
      "execution_count": 25,
      "id": "0JktEh3mPhWa",
      "metadata": {
        "id": "0JktEh3mPhWa",
        "outputId": "046ca0b8-8df4-4700-b744-a3d7dc63a0b0",
        "colab": {
          "base_uri": "https://localhost:8080/"
        }
      },
      "outputs": [
        {
          "output_type": "stream",
          "name": "stdout",
          "text": [
            "40\n"
          ]
        }
      ],
      "source": [
        "# Print statement\n",
        "print(variable)"
      ]
    },
    {
      "cell_type": "code",
      "execution_count": 27,
      "id": "kzWRGWc6PvRg",
      "metadata": {
        "id": "kzWRGWc6PvRg",
        "outputId": "cf517b73-76c2-4db9-9ee0-fcd82ac1a4c2",
        "colab": {
          "base_uri": "https://localhost:8080/"
        }
      },
      "outputs": [
        {
          "output_type": "stream",
          "name": "stdout",
          "text": [
            "40 320\n"
          ]
        }
      ],
      "source": [
        "# Overload the print statement\n",
        "variable2 = 80*4\n",
        "print(variable, variable2)"
      ]
    },
    {
      "cell_type": "code",
      "execution_count": 28,
      "id": "q4o-rr3CQA_1",
      "metadata": {
        "id": "q4o-rr3CQA_1"
      },
      "outputs": [],
      "source": [
        "# Combine variables\n",
        "variable3 = variable + variable2"
      ]
    },
    {
      "cell_type": "code",
      "source": [
        "print(variable3)"
      ],
      "metadata": {
        "id": "2QCVux-sx-kC",
        "outputId": "8ae8192f-3c22-4a93-9b7d-38976fb5558b",
        "colab": {
          "base_uri": "https://localhost:8080/"
        }
      },
      "id": "2QCVux-sx-kC",
      "execution_count": 29,
      "outputs": [
        {
          "output_type": "stream",
          "name": "stdout",
          "text": [
            "360\n"
          ]
        }
      ]
    },
    {
      "cell_type": "code",
      "execution_count": 35,
      "id": "EDQhKrR2QcQD",
      "metadata": {
        "id": "EDQhKrR2QcQD",
        "outputId": "cc49bf74-5210-469d-eb94-64ecbcc6f7bc",
        "colab": {
          "base_uri": "https://localhost:8080/"
        }
      },
      "outputs": [
        {
          "output_type": "stream",
          "name": "stdout",
          "text": [
            "10.0\n",
            "100\n",
            "1\n"
          ]
        }
      ],
      "source": [
        "# Other operations\n",
        "\n",
        "# Division\n",
        "\n",
        "division = 100 / 10\n",
        "print(division)\n",
        "\n",
        "# Exponents\n",
        "#10^2\n",
        "exponent = 10**2\n",
        "print(exponent)\n",
        "\n",
        "# Modulo\n",
        "modulo = 100 % 3\n",
        "print(modulo)\n"
      ]
    },
    {
      "cell_type": "markdown",
      "id": "edd7a508-3d2a-4312-b484-2270d21512ed",
      "metadata": {
        "id": "edd7a508-3d2a-4312-b484-2270d21512ed"
      },
      "source": [
        "## Data Types"
      ]
    },
    {
      "cell_type": "markdown",
      "id": "f8c6260a-50e0-44f4-b3e3-97df6e6f9a5d",
      "metadata": {
        "id": "f8c6260a-50e0-44f4-b3e3-97df6e6f9a5d",
        "tags": []
      },
      "source": [
        "- Numbers: Integers (int) and Floating Point Numbers (float)\n",
        "- Strings: Collection of multiple characters (str)"
      ]
    },
    {
      "cell_type": "code",
      "execution_count": 37,
      "id": "217d35fd-968a-4246-a1ee-cc4e754fa4d4",
      "metadata": {
        "id": "217d35fd-968a-4246-a1ee-cc4e754fa4d4",
        "outputId": "bee0950e-f4f4-4cd9-8e8d-7660bb9e9346",
        "colab": {
          "base_uri": "https://localhost:8080/"
        }
      },
      "outputs": [
        {
          "output_type": "execute_result",
          "data": {
            "text/plain": [
              "int"
            ]
          },
          "metadata": {},
          "execution_count": 37
        }
      ],
      "source": [
        "# Integer\n",
        "integer = 1\n",
        "\n",
        "type(integer)"
      ]
    },
    {
      "cell_type": "code",
      "source": [
        "\n"
      ],
      "metadata": {
        "id": "S0OTc-GTzkKR"
      },
      "id": "S0OTc-GTzkKR",
      "execution_count": 37,
      "outputs": []
    },
    {
      "cell_type": "code",
      "execution_count": 38,
      "id": "0JBgtbo4Snm2",
      "metadata": {
        "id": "0JBgtbo4Snm2",
        "outputId": "a42cc983-e95e-47a0-c1a1-47da9b75b50e",
        "colab": {
          "base_uri": "https://localhost:8080/"
        }
      },
      "outputs": [
        {
          "output_type": "execute_result",
          "data": {
            "text/plain": [
              "float"
            ]
          },
          "metadata": {},
          "execution_count": 38
        }
      ],
      "source": [
        "# Float\n",
        "\n",
        "float_number = 2.0\n",
        "type(float_number)"
      ]
    },
    {
      "cell_type": "code",
      "source": [],
      "metadata": {
        "id": "IaC96-ekzr13"
      },
      "id": "IaC96-ekzr13",
      "execution_count": 38,
      "outputs": []
    },
    {
      "cell_type": "code",
      "source": [
        "\n"
      ],
      "metadata": {
        "id": "Zs9sb60ezxPy"
      },
      "id": "Zs9sb60ezxPy",
      "execution_count": 38,
      "outputs": []
    },
    {
      "cell_type": "code",
      "execution_count": 39,
      "id": "Gt2DTTQeS-n1",
      "metadata": {
        "id": "Gt2DTTQeS-n1",
        "outputId": "42fe4ec6-2690-45c3-de39-c30b1973c9af",
        "colab": {
          "base_uri": "https://localhost:8080/"
        }
      },
      "outputs": [
        {
          "output_type": "execute_result",
          "data": {
            "text/plain": [
              "str"
            ]
          },
          "metadata": {},
          "execution_count": 39
        }
      ],
      "source": [
        "# Strings\n",
        "\n",
        "string = \"hello world!\"\n",
        "type(string)"
      ]
    },
    {
      "cell_type": "code",
      "execution_count": 40,
      "id": "lBvRG0p9TPoi",
      "metadata": {
        "id": "lBvRG0p9TPoi",
        "outputId": "9d1d9e1b-6911-4540-8bb7-fdb350b38731",
        "colab": {
          "base_uri": "https://localhost:8080/",
          "height": 35
        }
      },
      "outputs": [
        {
          "output_type": "execute_result",
          "data": {
            "text/plain": [
              "'h'"
            ],
            "application/vnd.google.colaboratory.intrinsic+json": {
              "type": "string"
            }
          },
          "metadata": {},
          "execution_count": 40
        }
      ],
      "source": [
        "# Doing operations with strings\n",
        "\n",
        "\n",
        "string[0]\n",
        "\n",
        "\n"
      ]
    },
    {
      "cell_type": "code",
      "execution_count": 49,
      "id": "4kQH1UflTdoB",
      "metadata": {
        "id": "4kQH1UflTdoB",
        "outputId": "7145481f-1bbe-494d-a83c-3147c13754ba",
        "colab": {
          "base_uri": "https://localhost:8080/",
          "height": 35
        }
      },
      "outputs": [
        {
          "output_type": "execute_result",
          "data": {
            "text/plain": [
              "'hello'"
            ],
            "application/vnd.google.colaboratory.intrinsic+json": {
              "type": "string"
            }
          },
          "metadata": {},
          "execution_count": 49
        }
      ],
      "source": [
        "# Singular string indexing\n",
        "\n",
        "string[0:5]"
      ]
    },
    {
      "cell_type": "code",
      "execution_count": 48,
      "id": "jFH6IrqEUECD",
      "metadata": {
        "id": "jFH6IrqEUECD"
      },
      "outputs": [],
      "source": [
        "# Sub-string indexing\n",
        "\n",
        "\n"
      ]
    },
    {
      "cell_type": "code",
      "execution_count": null,
      "id": "wWQnV_aOUkYz",
      "metadata": {
        "id": "wWQnV_aOUkYz"
      },
      "outputs": [],
      "source": [
        "# Casting of data types\n",
        "\n"
      ]
    },
    {
      "cell_type": "code",
      "execution_count": null,
      "id": "Tlz4wDvdU0id",
      "metadata": {
        "id": "Tlz4wDvdU0id"
      },
      "outputs": [],
      "source": [
        "# Imopossible casts"
      ]
    },
    {
      "cell_type": "markdown",
      "id": "0c274eaf-567d-4ee5-8e4a-c60c1a5c4fc3",
      "metadata": {
        "id": "0c274eaf-567d-4ee5-8e4a-c60c1a5c4fc3"
      },
      "source": [
        "## Lists"
      ]
    },
    {
      "cell_type": "markdown",
      "id": "7c652332-08ba-4a67-993f-f5f58a734fae",
      "metadata": {
        "id": "7c652332-08ba-4a67-993f-f5f58a734fae",
        "tags": []
      },
      "source": [
        "- Contains a sequence of arbitrary data types\n",
        "- Started with `[` followd by comma-separated entries and closed by `]`\n",
        "- Individual entries can be accessed using `int` indicies (`my_list[0]` for the first entry)\n",
        "- Order is important"
      ]
    },
    {
      "cell_type": "code",
      "execution_count": 51,
      "id": "3b9d7722-2810-4142-97d6-c20bb203e0ab",
      "metadata": {
        "id": "3b9d7722-2810-4142-97d6-c20bb203e0ab"
      },
      "outputs": [],
      "source": [
        "# You were in the lab and recorded a measurement\n",
        "time1 = 0.0\n",
        "time2 = 2.0\n",
        "time3 = 5.0"
      ]
    },
    {
      "cell_type": "code",
      "source": [],
      "metadata": {
        "id": "9VbqhoQC3pTz"
      },
      "id": "9VbqhoQC3pTz",
      "execution_count": 51,
      "outputs": []
    },
    {
      "cell_type": "code",
      "execution_count": 53,
      "id": "5DfgQSw5VwXA",
      "metadata": {
        "id": "5DfgQSw5VwXA",
        "outputId": "a90048e8-d043-446a-c7fa-937466cc2803",
        "colab": {
          "base_uri": "https://localhost:8080/"
        }
      },
      "outputs": [
        {
          "output_type": "execute_result",
          "data": {
            "text/plain": [
              "([0.0, 2.0, 5.0], list)"
            ]
          },
          "metadata": {},
          "execution_count": 53
        }
      ],
      "source": [
        "# Lists are arrays of things\n",
        "\n",
        "list_example = [0.0, 2.0, 5.0]\n",
        "list_example, type(list_example)"
      ]
    },
    {
      "cell_type": "code",
      "execution_count": 57,
      "id": "u-x5j7veWGTH",
      "metadata": {
        "id": "u-x5j7veWGTH",
        "outputId": "65531ea5-4c6a-4be0-fdca-729b21fed051",
        "colab": {
          "base_uri": "https://localhost:8080/"
        }
      },
      "outputs": [
        {
          "output_type": "stream",
          "name": "stdout",
          "text": [
            "0.0\n",
            "2.0\n"
          ]
        }
      ],
      "source": [
        "# Accessing single parts\n",
        "first_Element = list_example[0]\n",
        "print(first_Element)\n",
        "\n",
        "second_element = list_example[1]\n",
        "print(second_element)"
      ]
    },
    {
      "cell_type": "code",
      "execution_count": 61,
      "id": "BQR5fRSHWUUf",
      "metadata": {
        "id": "BQR5fRSHWUUf",
        "outputId": "81ddb911-0f6e-42a4-8a6d-6b7908897994",
        "colab": {
          "base_uri": "https://localhost:8080/"
        }
      },
      "outputs": [
        {
          "output_type": "stream",
          "name": "stdout",
          "text": [
            "[0.0, 2.0, 5.0]\n"
          ]
        }
      ],
      "source": [
        "# Accessing a subset\n",
        "subset = list_example[0:3]\n",
        "print(subset)"
      ]
    },
    {
      "cell_type": "code",
      "source": [],
      "metadata": {
        "id": "9VXDkIDI5Wt6"
      },
      "id": "9VXDkIDI5Wt6",
      "execution_count": null,
      "outputs": []
    },
    {
      "cell_type": "code",
      "execution_count": 74,
      "id": "aJzB_O0rWbZG",
      "metadata": {
        "id": "aJzB_O0rWbZG",
        "outputId": "5fa4165e-582d-4114-ed65-9f7b5c804446",
        "colab": {
          "base_uri": "https://localhost:8080/"
        }
      },
      "outputs": [
        {
          "output_type": "stream",
          "name": "stdout",
          "text": [
            "[7.0]\n"
          ]
        }
      ],
      "source": [
        "# Adding things to lists\n",
        "list_example.append(7.0)\n",
        "\n",
        "print(list_example)"
      ]
    },
    {
      "cell_type": "code",
      "source": [
        "#Clear this list\n",
        "list_example.clear()"
      ],
      "metadata": {
        "id": "vf80AfFe5us7"
      },
      "id": "vf80AfFe5us7",
      "execution_count": 73,
      "outputs": []
    },
    {
      "cell_type": "code",
      "execution_count": 91,
      "id": "EK8ZYuTVWzXV",
      "metadata": {
        "id": "EK8ZYuTVWzXV",
        "outputId": "fd38c028-1194-426a-f4cf-f936322fc719",
        "colab": {
          "base_uri": "https://localhost:8080/"
        }
      },
      "outputs": [
        {
          "output_type": "stream",
          "name": "stdout",
          "text": [
            "[100.0, 'strings', 10.0, True, 1.0]\n"
          ]
        }
      ],
      "source": [
        "# We can add whatever we want\n",
        "# It is not type specific!\n",
        "\n",
        "\n",
        "mixed_list = [100.0, \"strings\",\n",
        "\n",
        "\n",
        "              10.0, True, 1.0]\n",
        "\n",
        "print(mixed_list)"
      ]
    },
    {
      "cell_type": "code",
      "execution_count": 93,
      "id": "vcVCQmOUXNIE",
      "metadata": {
        "id": "vcVCQmOUXNIE",
        "outputId": "3a020a59-ef61-4081-ee2f-6a0d3b5511d0",
        "colab": {
          "base_uri": "https://localhost:8080/"
        }
      },
      "outputs": [
        {
          "output_type": "stream",
          "name": "stdout",
          "text": [
            "Last element: 1.0\n",
            "second last element: True\n"
          ]
        }
      ],
      "source": [
        "# Extract the last element of a list\n",
        "print(f\"Last element: {mixed_list[-1]}\")\n",
        "print(f\"second last element: {mixed_list[-2]}\")"
      ]
    },
    {
      "cell_type": "code",
      "source": [
        "#getting the lenght of a list\n",
        "\n",
        "lenght_of_list = len(mixed_list)\n",
        "print(f\"Length of list: {lenght_of_list}\")"
      ],
      "metadata": {
        "id": "eodLJVQZ7pvv",
        "outputId": "acd3d4db-8a71-4b34-e0bd-87e99ba06cbf",
        "colab": {
          "base_uri": "https://localhost:8080/"
        }
      },
      "id": "eodLJVQZ7pvv",
      "execution_count": 94,
      "outputs": [
        {
          "output_type": "stream",
          "name": "stdout",
          "text": [
            "Length of list: 5\n"
          ]
        }
      ]
    },
    {
      "cell_type": "markdown",
      "id": "043d6468-95df-449c-a287-ff61c295346c",
      "metadata": {
        "id": "043d6468-95df-449c-a287-ff61c295346c"
      },
      "source": [
        "## Dictionaries"
      ]
    },
    {
      "cell_type": "markdown",
      "id": "6c0b8223-4163-4df3-bfa3-3ecc304e8261",
      "metadata": {
        "id": "6c0b8223-4163-4df3-bfa3-3ecc304e8261",
        "tags": []
      },
      "source": [
        "- Mapping from a `key` to a `value`\n",
        "- Can be regarded as a collection of \"sticky notes\"\n",
        "- Behaves similar to a list, but that the indices are generalized to custom indices\n",
        "- Order is not important"
      ]
    },
    {
      "cell_type": "code",
      "execution_count": 95,
      "id": "31c7ec71-f879-461c-b37a-8390c07cb34b",
      "metadata": {
        "id": "31c7ec71-f879-461c-b37a-8390c07cb34b"
      },
      "outputs": [],
      "source": [
        "# Dict is a generlization of a list\n",
        "# list[1] = something"
      ]
    },
    {
      "cell_type": "code",
      "source": [
        "#how 2 define a dict\n",
        "dictionary = {\"street\" : \"asddsadasda\", \"zip\" : 77865767}\n",
        "\n",
        "#equivalent of a list\n",
        "equivalent = [\"asddsadasda\"], [77865767]\n",
        "\n",
        "print(dictionary, type(dictionary))"
      ],
      "metadata": {
        "id": "EFqkfhVW8Gdi",
        "outputId": "81d4f7ed-44b4-4999-f0b1-21321d51646e",
        "colab": {
          "base_uri": "https://localhost:8080/"
        }
      },
      "id": "EFqkfhVW8Gdi",
      "execution_count": 99,
      "outputs": [
        {
          "output_type": "stream",
          "name": "stdout",
          "text": [
            "{'street': 'asddsadasda', 'zip': 77865767} <class 'dict'>\n"
          ]
        }
      ]
    },
    {
      "cell_type": "code",
      "source": [
        "#access data of a dictionary\n",
        "street = dictionary[\"street\"]\n",
        "print(f\"The street is {street}\")\n",
        "\n",
        "\n",
        "\n",
        "\n",
        "\n",
        "zip_code = dictionary[\"zip\"]\n",
        "print(f\"The zip code is {zip_code}\")"
      ],
      "metadata": {
        "id": "3-Rkrdo_8-89",
        "outputId": "e21d09be-a35d-49f1-eb0c-d452ce411831",
        "colab": {
          "base_uri": "https://localhost:8080/"
        }
      },
      "id": "3-Rkrdo_8-89",
      "execution_count": 101,
      "outputs": [
        {
          "output_type": "stream",
          "name": "stdout",
          "text": [
            "The street is asddsadasda\n",
            "The zip code is 77865767\n"
          ]
        }
      ]
    },
    {
      "cell_type": "code",
      "source": [
        "#extending a dictionary\n",
        "\n",
        "dictionary[\"city\"] = \"Amsterdam\"\n",
        "print(f\"Content of the dictionary after mutation\")\n",
        "print(dictionary)"
      ],
      "metadata": {
        "id": "mTyavwS39mzS",
        "outputId": "89f921d5-660f-4d74-a5e4-44b6deb49d18",
        "colab": {
          "base_uri": "https://localhost:8080/"
        }
      },
      "id": "mTyavwS39mzS",
      "execution_count": 103,
      "outputs": [
        {
          "output_type": "stream",
          "name": "stdout",
          "text": [
            "Content of the dictionary after mutation\n",
            "{'street': 'asddsadasda', 'zip': 77865767, 'city': 'Amsterdam'}\n"
          ]
        }
      ]
    },
    {
      "cell_type": "code",
      "source": [
        "#remove an element (case: overwrite)\n",
        "\n",
        "\n",
        "dictionary[\"city\"] = \"Mardin\"\n",
        "print(dictionary)"
      ],
      "metadata": {
        "id": "coUomaqX9_I8",
        "outputId": "b23b8225-6a77-431b-bc12-af7c49236493",
        "colab": {
          "base_uri": "https://localhost:8080/"
        }
      },
      "id": "coUomaqX9_I8",
      "execution_count": 107,
      "outputs": [
        {
          "output_type": "stream",
          "name": "stdout",
          "text": [
            "{'street': 'asddsadasda', 'zip': 77865767, 'city': 'Mardin'}\n"
          ]
        }
      ]
    },
    {
      "cell_type": "code",
      "source": [
        "#remove an element (case:deleting)\n",
        "del dictionary[\"city\"]\n",
        "print(dictionary)"
      ],
      "metadata": {
        "id": "4I18tTce-M_1",
        "outputId": "6b208103-9871-4835-afc6-3c4e2e05d5f5",
        "colab": {
          "base_uri": "https://localhost:8080/"
        }
      },
      "id": "4I18tTce-M_1",
      "execution_count": 108,
      "outputs": [
        {
          "output_type": "stream",
          "name": "stdout",
          "text": [
            "{'street': 'asddsadasda', 'zip': 77865767}\n"
          ]
        }
      ]
    },
    {
      "cell_type": "markdown",
      "id": "0691a453-62ee-45cd-9dc2-101841822952",
      "metadata": {
        "id": "0691a453-62ee-45cd-9dc2-101841822952",
        "tags": []
      },
      "source": [
        "## For-loops"
      ]
    },
    {
      "cell_type": "markdown",
      "id": "805da471-34e4-43fe-a5b2-ae4eb76e1d6b",
      "metadata": {
        "id": "805da471-34e4-43fe-a5b2-ae4eb76e1d6b",
        "jp-MarkdownHeadingCollapsed": true,
        "tags": []
      },
      "source": [
        "<center><img src=\"https://media.geeksforgeeks.org/wp-content/uploads/20191101172216/for-loop-python.jpg\" width=\"500\" height=\"500\"/></center>\n",
        "\n",
        "- Used to dynamically iterate over each entry in a list or dictionary\n",
        "- Helps solving the problem of individual accessing a list\n",
        "- Most used loop in Python and staright forward\n",
        "\n",
        "#### Procedure\n",
        "1. The for-loop \"pulls\" an entry per round from the list\n",
        "2. Stored in the \"variable scope\" to the name you've choosen e.g. `variable`\n",
        "3. Inside the \"body\" operations can be executed as usual\n",
        "\n",
        "#### Example\n",
        "\n",
        "```\n",
        "for variable in my_list:\n",
        "    # do something\n",
        "    print(variable * 2)\n",
        "```"
      ]
    },
    {
      "cell_type": "code",
      "execution_count": null,
      "id": "48a10ad7-85d3-441a-ab38-4b823e6a710a",
      "metadata": {
        "id": "48a10ad7-85d3-441a-ab38-4b823e6a710a"
      },
      "outputs": [],
      "source": [
        "# Access values in a list\n",
        "measurement = [0.0, 2.0, 5.0, 10.0] # Has four elements 0-5\n",
        "\n",
        "measurement[0]\n",
        "measurement[1]\n",
        "measurement[6]\n"
      ]
    },
    {
      "cell_type": "code",
      "execution_count": null,
      "id": "B1cu2XqmZETf",
      "metadata": {
        "id": "B1cu2XqmZETf"
      },
      "outputs": [],
      "source": [
        "# Use a for loop!"
      ]
    },
    {
      "cell_type": "code",
      "execution_count": null,
      "id": "Niwx9AVueyTy",
      "metadata": {
        "id": "Niwx9AVueyTy"
      },
      "outputs": [],
      "source": [
        "# Dont forget indenting! This does not work"
      ]
    },
    {
      "cell_type": "markdown",
      "id": "8e9891c5-b667-4399-8189-b00b4d2946ac",
      "metadata": {
        "id": "8e9891c5-b667-4399-8189-b00b4d2946ac",
        "tags": []
      },
      "source": [
        "## While-loops"
      ]
    },
    {
      "cell_type": "markdown",
      "id": "216e5b19-97a0-414d-9983-6e9faea3f174",
      "metadata": {
        "id": "216e5b19-97a0-414d-9983-6e9faea3f174",
        "tags": []
      },
      "source": [
        "<center><img src=\"https://media.geeksforgeeks.org/wp-content/uploads/20191101170515/while-loop.jpg\" width=\"500\" height=\"500\"/></center>\n",
        "\n",
        "- Behaves similar to the for-loop\n",
        "- Stops whenever a specific condition is met, such as when a number is greater some value\n",
        "- Does __not__ pull entries from a list, thus it needs to be done manually\n",
        "- Needs a starting condition that is evaluated at each round\n",
        "- Can end up in an infinite loop\n",
        "- Rarely used and should only be considered when dealing with highly dynamic tasks\n",
        "\n",
        "#### Procedure\n",
        "\n",
        "1. Set up a starting condition and a termination condition\n",
        "2. Enter the body of the loop and perform the operation\n",
        "3. At the next iteration, the condition is tested\n",
        "4. If met, the loop continues. If not, the loop is terminated\n",
        "\n",
        "#### Example\n",
        "\n",
        "```\n",
        "index = 0\n",
        "\n",
        "while index <= 10:\n",
        "    print(index)\n",
        "    \n",
        "    # Index needs to be increased manually\n",
        "    index += 1\n",
        "```"
      ]
    },
    {
      "cell_type": "code",
      "execution_count": null,
      "id": "ea66208c-5e0a-4f11-b81a-7d4d21b95eff",
      "metadata": {
        "id": "ea66208c-5e0a-4f11-b81a-7d4d21b95eff"
      },
      "outputs": [],
      "source": [
        "# Basics of a while-loop"
      ]
    },
    {
      "cell_type": "markdown",
      "id": "04c01b16-b8f1-4b27-ad10-5d69daa94565",
      "metadata": {
        "id": "04c01b16-b8f1-4b27-ad10-5d69daa94565"
      },
      "source": [
        "## Conditions"
      ]
    },
    {
      "cell_type": "markdown",
      "id": "6c5fc8cd-e234-4ea9-9c64-ce14ab376781",
      "metadata": {
        "id": "6c5fc8cd-e234-4ea9-9c64-ce14ab376781",
        "tags": []
      },
      "source": [
        "- If-else statements are very important to deal with certain situations\n",
        "- Whenever a condition is met, the following code is executed\n",
        "- Optionally, an `else` statement can be used to deal with all situations that did not match the condition\n",
        "\n",
        "#### Using conditions wisely\n",
        "\n",
        "- Try to use as less as possible and as much as needed\n",
        "- Nesting too many `if`s is a sign of bad design\n",
        "- Sometimes it is helpful to deal with what you dont want (see [Guard clauses](https://medium.com/lemon-code/guard-clauses-3bc0cd96a2d3))"
      ]
    },
    {
      "cell_type": "code",
      "execution_count": null,
      "id": "6s-EXeyNd3WJ",
      "metadata": {
        "id": "6s-EXeyNd3WJ"
      },
      "outputs": [],
      "source": [
        "# If-statement basics"
      ]
    },
    {
      "cell_type": "code",
      "execution_count": null,
      "id": "79992e9a-fdd0-4cb0-978a-97674fd5b5f5",
      "metadata": {
        "id": "79992e9a-fdd0-4cb0-978a-97674fd5b5f5"
      },
      "outputs": [],
      "source": [
        "# String comparisons"
      ]
    },
    {
      "cell_type": "code",
      "execution_count": null,
      "id": "RKSLwVN6bg5q",
      "metadata": {
        "id": "RKSLwVN6bg5q"
      },
      "outputs": [],
      "source": [
        "# Numerical conditions"
      ]
    },
    {
      "cell_type": "markdown",
      "id": "81ba9cca-9839-42a6-96a2-334fcaba6be3",
      "metadata": {
        "id": "81ba9cca-9839-42a6-96a2-334fcaba6be3"
      },
      "source": [
        "## Its all about the sauce"
      ]
    },
    {
      "cell_type": "markdown",
      "id": "bf641dbc-9fa6-4a44-90db-1b296cb2a3a7",
      "metadata": {
        "id": "bf641dbc-9fa6-4a44-90db-1b296cb2a3a7",
        "tags": []
      },
      "source": [
        "Navigating through the syntax jungle can be quite tempting and exhausting. However, most problems you will be confronted with have already been solved numerous times. Thus, knowing your __sources__ is the utmost important skill when programming. There are multiple sites where problems are discussed and solutions are given!\n",
        "\n",
        "#### Helpful sites\n",
        "\n",
        "- [StackOverflow](https://www.stackoverflow.com) - Probably the best site to search for help\n",
        "- [W3Schools Python](https://www.w3schools.com/python/) - Great overview of Pythons functionality\n",
        "- [PythonCheatSheet](https://www.pythoncheatsheet.org/) - Another great overview\n",
        "- [Google](https://www.google.com) - The most used tool in Software Development"
      ]
    }
  ],
  "metadata": {
    "colab": {
      "provenance": [],
      "toc_visible": true
    },
    "kernelspec": {
      "display_name": "Python 3 (ipykernel)",
      "language": "python",
      "name": "python3"
    },
    "language_info": {
      "codemirror_mode": {
        "name": "ipython",
        "version": 3
      },
      "file_extension": ".py",
      "mimetype": "text/x-python",
      "name": "python",
      "nbconvert_exporter": "python",
      "pygments_lexer": "ipython3",
      "version": "3.11.5"
    }
  },
  "nbformat": 4,
  "nbformat_minor": 5
}